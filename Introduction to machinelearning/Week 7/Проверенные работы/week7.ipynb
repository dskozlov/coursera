{
 "cells": [
  {
   "cell_type": "heading",
   "metadata": {},
   "level": 1,
   "source": [
    "Подход 1: градиентный бустинг \"в лоб\""
   ]
  },
  {
   "cell_type": "markdown",
   "metadata": {},
   "source": [
    "Загружаем данные"
   ]
  },
  {
   "cell_type": "code",
   "execution_count": 1,
   "metadata": {
    "collapsed": true
   },
   "outputs": [],
   "source": [
    "import pandas\n",
    "\n",
    "features = pandas.read_csv('d:/features.csv')\n",
    "features = features.drop('match_id', 1)"
   ]
  },
  {
   "cell_type": "markdown",
   "metadata": {},
   "source": [
    "Ищем пропущенные данные"
   ]
  },
  {
   "cell_type": "code",
   "execution_count": 2,
   "metadata": {
    "collapsed": false
   },
   "outputs": [
    {
     "name": "stdout",
     "output_type": "stream",
     "text": [
      "first_blood_time - 77677\nfirst_blood_team - 77677\nfirst_blood_player1 - 77677\nfirst_blood_player2 - 53243\nradiant_bottle_time - 81539\nradiant_courier_time - 96538\nradiant_flying_courier_time - 69751\nradiant_first_ward_time - 95394\ndire_bottle_time - 81087\ndire_courier_time - 96554\ndire_flying_courier_time - 71132\ndire_first_ward_time - 95404\n"
     ]
    }
   ],
   "source": [
    "total = features.shape[0]\n",
    "for column, n in features.count().iteritems():\n",
    "    if n < total:\n",
    "        print(column, '-', n)"
   ]
  },
  {
   "cell_type": "markdown",
   "metadata": {},
   "source": [
    "Пропуски есть в полях:\n",
    "first_blood_time\n",
    "first_blood_team\n",
    "first_blood_player1\n",
    "first_blood_player2\n",
    "radiant_bottle_time\n",
    "radiant_courier_time\n",
    "radiant_flying_courier_time\n",
    "radiant_first_ward_time\n",
    "dire_bottle_time\n",
    "dire_courier_time\n",
    "dire_flying_courier_time\n",
    "dire_first_ward_time\n",
    "\n",
    "first_blood_time, first_blood_team не заполнены, если событие first_blood не успело произойти за первые 5 минут\n",
    "Пропуски в полях с суффиксом time могут означать то, что данное событие не наступило во время матча"
   ]
  },
  {
   "cell_type": "markdown",
   "metadata": {},
   "source": [
    "Заполняем пропуски"
   ]
  },
  {
   "cell_type": "code",
   "execution_count": 3,
   "metadata": {},
   "outputs": [],
   "source": [
    "for column in features:\n",
    "    features[column].fillna(0, inplace=True)\n",
    "\n",
    "result = features[\n",
    "    ['duration', 'radiant_win', 'tower_status_radiant', 'tower_status_dire', 'barracks_status_radiant', 'barracks_status_dire']]\n",
    "\n",
    "features = features.drop(\n",
    "    ['duration', 'radiant_win', 'tower_status_radiant', 'tower_status_dire', 'barracks_status_radiant', 'barracks_status_dire']\n",
    "    , 1)\n",
    "\n",
    "y = result['radiant_win']"
   ]
  },
  {
   "cell_type": "markdown",
   "metadata": {},
   "source": [
    "Запускаем кросс-валидацию, меряем результат и время обучения"
   ]
  },
  {
   "cell_type": "code",
   "execution_count": 5,
   "metadata": {},
   "outputs": [
    {
     "name": "stdout",
     "output_type": "stream",
     "text": [
      "N: 10\n"
     ]
    },
    {
     "name": "stdout",
     "output_type": "stream",
     "text": [
      "Score: 0.664538817418\nTime elapsed: 0:00:36.428747\nN: 20\n"
     ]
    },
    {
     "name": "stdout",
     "output_type": "stream",
     "text": [
      "Score: 0.682312198885\nTime elapsed: 0:01:07.615881\nN: 30\n"
     ]
    },
    {
     "name": "stdout",
     "output_type": "stream",
     "text": [
      "Score: 0.689047050245\nTime elapsed: 0:01:41.391829\nN: 40\n"
     ]
    },
    {
     "name": "stdout",
     "output_type": "stream",
     "text": [
      "Score: 0.694394424428\nTime elapsed: 0:02:24.932685\nN: 50\n"
     ]
    },
    {
     "name": "stdout",
     "output_type": "stream",
     "text": [
      "Score: 0.697258937725\nTime elapsed: 0:02:46.624546\nN: 70\n"
     ]
    },
    {
     "name": "stdout",
     "output_type": "stream",
     "text": [
      "Score: 0.701989434606\nTime elapsed: 0:03:51.518913\nN: 100\n"
     ]
    },
    {
     "name": "stdout",
     "output_type": "stream",
     "text": [
      "Score: 0.706657421038\nTime elapsed: 0:05:24.972388\n"
     ]
    }
   ],
   "source": [
    "import datetime\n",
    "import numpy as np\n",
    "from sklearn.ensemble import GradientBoostingClassifier\n",
    "from sklearn.model_selection import KFold, cross_val_score\n",
    "\n",
    "for n in [10, 20, 30, 40, 50, 70, 100]:\n",
    "    start_time = datetime.datetime.now()\n",
    "    model = GradientBoostingClassifier(n_estimators=n)\n",
    "    print('N:', n)\n",
    "    print('Score:', np.mean(cross_val_score(model, features, y, scoring='roc_auc', cv=KFold(5, True))))\n",
    "    print('Time elapsed:', datetime.datetime.now() - start_time)"
   ]
  },
  {
   "cell_type": "markdown",
   "metadata": {},
   "source": [
    "Результат:\n",
    "\n",
    "N: 10\n",
    "Score: 0.664538817418\n",
    "Time elapsed: 0:00:36.428747\n",
    "N: 20\n",
    "Score: 0.682312198885\n",
    "Time elapsed: 0:01:07.615881\n",
    "N: 30\n",
    "Score: 0.689047050245\n",
    "Time elapsed: 0:01:41.391829\n",
    "N: 40\n",
    "Score: 0.694394424428\n",
    "Time elapsed: 0:02:24.932685\n",
    "N: 50\n",
    "Score: 0.697258937725\n",
    "Time elapsed: 0:02:46.624546\n",
    "N: 70\n",
    "Score: 0.701989434606\n",
    "Time elapsed: 0:03:51.518913\n",
    "N: 100\n",
    "Score: 0.706657421038\n",
    "Time elapsed: 0:05:24.972388"
   ]
  },
  {
   "cell_type": "markdown",
   "metadata": {},
   "source": [
    "Для увеличения скорости при большом количестве деревьев можно проводить обучение на подвыборке\n",
    "Увеличение числа деревьев положительно сказывается на качестве"
   ]
  },
  {
   "cell_type": "heading",
   "metadata": {},
   "level": 1,
   "source": [
    "Подход 2: логистическая регрессия"
   ]
  },
  {
   "cell_type": "markdown",
   "metadata": {},
   "source": [
    "Подготовка данных и использованием \"мешка слов\" по героям. Очень долгая операция"
   ]
  },
  {
   "cell_type": "code",
   "execution_count": null,
   "metadata": {},
   "outputs": [],
   "source": [
    "import pandas\n",
    "\n",
    "features = pandas.read_csv('d:/features.csv')\n",
    "\n",
    "for i in range(112):\n",
    "    features['hero_%d' % i] = 0\n",
    "\n",
    "for i in features.index:\n",
    "    for p in range(5):\n",
    "        rHeroId = features['r%d_hero' % (p + 1)][i] - 1\n",
    "        dHeroId = features['d%d_hero' % (p + 1)][i] - 1\n",
    "        features.loc[i, 'hero_%d' % rHeroId] = 1\n",
    "        features.loc[i, 'hero_%d' % dHeroId] = -1\n",
    "    if (i % 1000) == 0:\n",
    "        print(i)\n",
    "\n",
    "features.to_csv('d:/features_new.csv')"
   ]
  },
  {
   "cell_type": "markdown",
   "metadata": {},
   "source": [
    "Запуск на необработаных данных"
   ]
  },
  {
   "cell_type": "code",
   "execution_count": 13,
   "metadata": {},
   "outputs": [
    {
     "name": "stdout",
     "output_type": "stream",
     "text": [
      "C: 0.0001\n"
     ]
    },
    {
     "name": "stdout",
     "output_type": "stream",
     "text": [
      "Score: 0.711219438464\nTime elapsed: 0:00:07.587276\nC: 0.001\n"
     ]
    },
    {
     "name": "stdout",
     "output_type": "stream",
     "text": [
      "Score: 0.716294750484\nTime elapsed: 0:00:21.687790\nC: 0.01\n"
     ]
    },
    {
     "name": "stdout",
     "output_type": "stream",
     "text": [
      "Score: 0.71628257256\nTime elapsed: 0:00:40.120541\nC: 0.1\n"
     ]
    },
    {
     "name": "stdout",
     "output_type": "stream",
     "text": [
      "Score: 0.716361585729\nTime elapsed: 0:00:59.634154\nC: 1\n"
     ]
    },
    {
     "name": "stdout",
     "output_type": "stream",
     "text": [
      "Score: 0.716440172266\nTime elapsed: 0:01:17.472883\nC: 10\n"
     ]
    },
    {
     "name": "stdout",
     "output_type": "stream",
     "text": [
      "Score: 0.716395627349\nTime elapsed: 0:01:39.049593\n"
     ]
    }
   ],
   "source": [
    "import datetime\n",
    "import pandas\n",
    "import numpy as np\n",
    "from sklearn.linear_model import LogisticRegression\n",
    "from sklearn.model_selection import KFold, cross_val_score\n",
    "from sklearn.preprocessing import StandardScaler\n",
    "\n",
    "features = pandas.read_csv('d:/features.csv')\n",
    "features = features.drop('match_id', 1)\n",
    "\n",
    "for column in features:\n",
    "    features[column].fillna(0, inplace=True)\n",
    "\n",
    "result = features[\n",
    "    ['duration', 'radiant_win', 'tower_status_radiant', 'tower_status_dire', 'barracks_status_radiant',\n",
    "     'barracks_status_dire']]\n",
    "\n",
    "features = features.drop(\n",
    "    ['duration', 'radiant_win', 'tower_status_radiant', 'tower_status_dire', 'barracks_status_radiant',\n",
    "     'barracks_status_dire'], 1)\n",
    "\n",
    "y = result['radiant_win']\n",
    "\n",
    "features = StandardScaler().fit_transform(features)\n",
    "\n",
    "start_time = datetime.datetime.now()\n",
    "for c in [0.0001, 0.001, 0.01, 0.1, 1, 10]:\n",
    "    model = LogisticRegression(C=c)\n",
    "    print('C:', c)\n",
    "    print('Score:', np.mean(cross_val_score(model, features, y, scoring='roc_auc', cv=KFold(5, True))))\n",
    "    print('Time elapsed:', datetime.datetime.now() - start_time)"
   ]
  },
  {
   "cell_type": "markdown",
   "metadata": {},
   "source": [
    "Результат:\n",
    "\n",
    "C: 0.0001\n",
    "Score: 0.711356722518\n",
    "Time elapsed: 0:00:07.535012\n",
    "C: 0.001\n",
    "Score: 0.716257272205\n",
    "Time elapsed: 0:00:21.240223\n",
    "C: 0.01\n",
    "Score: 0.716402881464\n",
    "Time elapsed: 0:00:39.361165\n",
    "C: 0.1\n",
    "Score: 0.716561214872\n",
    "Time elapsed: 0:00:59.234872\n",
    "C: 1\n",
    "Score: 0.716362982712\n",
    "Time elapsed: 0:01:18.596599\n",
    "C: 10\n",
    "Score: 0.716420149552\n",
    "Time elapsed: 0:01:37.920477\n",
    "\n",
    "Логистическая регрессия работает существенно быстрее и дает чуть лучший результат"
   ]
  },
  {
   "cell_type": "code",
   "execution_count": 14,
   "metadata": {},
   "outputs": [
    {
     "name": "stdout",
     "output_type": "stream",
     "text": [
      "Score: 0.716482274514\nTime elapsed: 0:00:17.961548\n"
     ]
    }
   ],
   "source": [
    "import datetime\n",
    "import pandas\n",
    "import numpy as np\n",
    "from sklearn.linear_model import LogisticRegression\n",
    "from sklearn.model_selection import KFold, cross_val_score\n",
    "from sklearn.preprocessing import StandardScaler\n",
    "\n",
    "features = pandas.read_csv('d:/features.csv')\n",
    "\n",
    "features = features.drop('match_id', 1)\n",
    "features = features.drop(['lobby_type', 'r1_hero', 'r2_hero', 'r3_hero', 'r4_hero', 'r5_hero', 'd1_hero', 'd2_hero',\n",
    "                          'd3_hero', 'd4_hero', 'd5_hero'], 1)\n",
    "\n",
    "for column in features:\n",
    "    features[column].fillna(0, inplace=True)\n",
    "\n",
    "result = features[\n",
    "    ['duration', 'radiant_win', 'tower_status_radiant', 'tower_status_dire', 'barracks_status_radiant',\n",
    "     'barracks_status_dire']]\n",
    "\n",
    "features = features.drop(\n",
    "    ['duration', 'radiant_win', 'tower_status_radiant', 'tower_status_dire', 'barracks_status_radiant',\n",
    "     'barracks_status_dire'], 1)\n",
    "\n",
    "y = result['radiant_win']\n",
    "\n",
    "features = StandardScaler().fit_transform(features)\n",
    "\n",
    "start_time = datetime.datetime.now()\n",
    "model = LogisticRegression(C=0.1)\n",
    "print('Score:', np.mean(cross_val_score(model, features, y, scoring='roc_auc', cv=KFold(5, True))))\n",
    "print('Time elapsed:', datetime.datetime.now() - start_time)"
   ]
  },
  {
   "cell_type": "markdown",
   "metadata": {},
   "source": [
    "Удаление категориальных признаков не сказывается на качестве модели. Алгоритм не может использовать информацию из этих признаков в таком виде"
   ]
  },
  {
   "cell_type": "markdown",
   "metadata": {},
   "source": [
    "Определяем количество различных идентификаторов героев"
   ]
  },
  {
   "cell_type": "code",
   "execution_count": 22,
   "metadata": {},
   "outputs": [
    {
     "name": "stdout",
     "output_type": "stream",
     "text": [
      "108\n1 - 112\nExcept:\n24\n107\n108\n111\n"
     ]
    }
   ],
   "source": [
    "features = pandas.read_csv('d:/features.csv')\n",
    "print(features['r1_hero'].nunique())\n",
    "print(min(features['r1_hero'].values), '-', max(features['r1_hero'].values))\n",
    "print('Except:')\n",
    "for i in range(1, max(features['r1_hero'].values)):\n",
    "    if i not in features['r1_hero'].values:\n",
    "        print(i)\n"
   ]
  },
  {
   "cell_type": "markdown",
   "metadata": {},
   "source": [
    "Результат:\n",
    "\n",
    "108\n",
    "1 - 112\n",
    "Except:\n",
    "24\n",
    "107\n",
    "108\n",
    "111"
   ]
  },
  {
   "cell_type": "code",
   "execution_count": 15,
   "metadata": {},
   "outputs": [
    {
     "name": "stdout",
     "output_type": "stream",
     "text": [
      "Score: 0.751928859719\nTime elapsed: 0:00:34.616399\n"
     ]
    }
   ],
   "source": [
    "import datetime\n",
    "import pandas\n",
    "import numpy as np\n",
    "from sklearn.linear_model import LogisticRegression\n",
    "from sklearn.model_selection import KFold, cross_val_score\n",
    "from sklearn.preprocessing import StandardScaler\n",
    "\n",
    "features = pandas.read_csv('d:/features_new.csv')\n",
    "\n",
    "features = features.drop(['match_id', 'Unnamed: 0'], 1)\n",
    "features = features.drop(['lobby_type', 'r1_hero', 'r2_hero', 'r3_hero', 'r4_hero', 'r5_hero', 'd1_hero', 'd2_hero',\n",
    "                          'd3_hero', 'd4_hero', 'd5_hero'], 1)\n",
    "\n",
    "for column in features:\n",
    "    features[column].fillna(0, inplace=True)\n",
    "\n",
    "result = features[\n",
    "    ['duration', 'radiant_win', 'tower_status_radiant', 'tower_status_dire', 'barracks_status_radiant',\n",
    "     'barracks_status_dire']]\n",
    "\n",
    "features = features.drop(\n",
    "    ['duration', 'radiant_win', 'tower_status_radiant', 'tower_status_dire', 'barracks_status_radiant',\n",
    "     'barracks_status_dire'], 1)\n",
    "\n",
    "y = result['radiant_win']\n",
    "\n",
    "scaler = StandardScaler()\n",
    "features = scaler.fit_transform(features)\n",
    "\n",
    "start_time = datetime.datetime.now()\n",
    "model = LogisticRegression(C=0.1)\n",
    "print('Score:', np.mean(cross_val_score(model, features, y, scoring='roc_auc', cv=KFold(5, True))))\n",
    "print('Time elapsed:', datetime.datetime.now() - start_time)"
   ]
  },
  {
   "cell_type": "markdown",
   "metadata": {},
   "source": [
    "Результат:\n",
    "Score: 0.751928859719\n",
    "Time elapsed: 0:00:34.616399\n"
   ]
  },
  {
   "cell_type": "markdown",
   "metadata": {},
   "source": [
    "Обучаем модель на всех данных\n",
    "Считаем минимальное и максимальное значение прогноза"
   ]
  },
  {
   "cell_type": "code",
   "execution_count": 16,
   "metadata": {},
   "outputs": [
    {
     "name": "stdout",
     "output_type": "stream",
     "text": [
      "0.500019866427 0.996471254335\n"
     ]
    }
   ],
   "source": [
    "model = LogisticRegression(C=0.1)\n",
    "model.fit(features, y)\n",
    "\n",
    "features_test = pandas.read_csv('d:/features_test_new.csv')\n",
    "features_test = features_test.drop(['Unnamed: 0', 'match_id'], 1)\n",
    "features_test = features_test.drop(\n",
    "    ['lobby_type', 'r1_hero', 'r2_hero', 'r3_hero', 'r4_hero', 'r5_hero', 'd1_hero', 'd2_hero',\n",
    "     'd3_hero', 'd4_hero', 'd5_hero'], 1)\n",
    "\n",
    "for column in features_test:\n",
    "    features_test[column].fillna(0, inplace=True)\n",
    "\n",
    "features_test = scaler.fit_transform(features_test)\n",
    "y_test = model.predict_proba(features_test)\n",
    "\n",
    "maxX, maxD, minX, minD = 0, 0, 1, 1\n",
    "\n",
    "for y in y_test:\n",
    "    if abs(y[0] - y[1]) > maxD:\n",
    "        maxD = abs(y[0] - y[1])\n",
    "        maxX = max(y[0], y[1])\n",
    "    if abs(y[0] - y[1]) < minD:\n",
    "        minD = abs(y[0] - y[1])\n",
    "        minX = max(y[0], y[1])\n",
    "\n",
    "print(minX, maxX)"
   ]
  },
  {
   "cell_type": "markdown",
   "metadata": {},
   "source": [
    "Результат:\n",
    "0.500019866427 - минимальное значение прогноза\n",
    "0.996471254335 - максимальное значение прогноза"
   ]
  }
 ],
 "metadata": {
  "kernelspec": {
   "display_name": "Python 2",
   "language": "python",
   "name": "python2"
  },
  "language_info": {
   "codemirror_mode": {
    "name": "ipython",
    "version": 2
   },
   "file_extension": ".py",
   "mimetype": "text/x-python",
   "name": "python",
   "nbconvert_exporter": "python",
   "pygments_lexer": "ipython2",
   "version": "2.7.6"
  }
 },
 "nbformat": 4,
 "nbformat_minor": 0
}
