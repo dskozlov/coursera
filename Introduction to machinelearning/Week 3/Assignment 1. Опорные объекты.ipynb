{
 "cells": [
  {
   "cell_type": "code",
   "execution_count": 1,
   "metadata": {
    "collapsed": true
   },
   "outputs": [],
   "source": [
    "import pandas as pd\n",
    "import numpy as np\n",
    "from sklearn import svm"
   ]
  },
  {
   "cell_type": "code",
   "execution_count": 2,
   "metadata": {
    "collapsed": true
   },
   "outputs": [],
   "source": [
    "df=pd.read_csv('svm-data.csv',header=None)\n",
    "df.columns=['label','feature_1','feature_2']\n",
    "X=df[['feature_1','feature_2']]\n",
    "y=df['label']"
   ]
  },
  {
   "cell_type": "code",
   "execution_count": 3,
   "metadata": {},
   "outputs": [
    {
     "data": {
      "text/html": [
       "<div>\n",
       "<style>\n",
       "    .dataframe thead tr:only-child th {\n",
       "        text-align: right;\n",
       "    }\n",
       "\n",
       "    .dataframe thead th {\n",
       "        text-align: left;\n",
       "    }\n",
       "\n",
       "    .dataframe tbody tr th {\n",
       "        vertical-align: top;\n",
       "    }\n",
       "</style>\n",
       "<table border=\"1\" class=\"dataframe\">\n",
       "  <thead>\n",
       "    <tr style=\"text-align: right;\">\n",
       "      <th></th>\n",
       "      <th>label</th>\n",
       "      <th>feature_1</th>\n",
       "      <th>feature_2</th>\n",
       "    </tr>\n",
       "  </thead>\n",
       "  <tbody>\n",
       "    <tr>\n",
       "      <th>0</th>\n",
       "      <td>0.0</td>\n",
       "      <td>0.70</td>\n",
       "      <td>0.29</td>\n",
       "    </tr>\n",
       "    <tr>\n",
       "      <th>1</th>\n",
       "      <td>1.0</td>\n",
       "      <td>0.23</td>\n",
       "      <td>0.55</td>\n",
       "    </tr>\n",
       "    <tr>\n",
       "      <th>2</th>\n",
       "      <td>0.0</td>\n",
       "      <td>0.72</td>\n",
       "      <td>0.42</td>\n",
       "    </tr>\n",
       "    <tr>\n",
       "      <th>3</th>\n",
       "      <td>0.0</td>\n",
       "      <td>0.98</td>\n",
       "      <td>0.68</td>\n",
       "    </tr>\n",
       "    <tr>\n",
       "      <th>4</th>\n",
       "      <td>0.0</td>\n",
       "      <td>0.48</td>\n",
       "      <td>0.39</td>\n",
       "    </tr>\n",
       "  </tbody>\n",
       "</table>\n",
       "</div>"
      ],
      "text/plain": [
       "   label  feature_1  feature_2\n",
       "0    0.0       0.70       0.29\n",
       "1    1.0       0.23       0.55\n",
       "2    0.0       0.72       0.42\n",
       "3    0.0       0.98       0.68\n",
       "4    0.0       0.48       0.39"
      ]
     },
     "execution_count": 3,
     "metadata": {},
     "output_type": "execute_result"
    }
   ],
   "source": [
    "df.head()"
   ]
  },
  {
   "cell_type": "code",
   "execution_count": 4,
   "metadata": {
    "collapsed": true
   },
   "outputs": [],
   "source": [
    "clf=svm.SVC(C=100000,kernel='linear',random_state=241)"
   ]
  },
  {
   "cell_type": "code",
   "execution_count": 5,
   "metadata": {},
   "outputs": [
    {
     "data": {
      "text/plain": [
       "SVC(C=100000, cache_size=200, class_weight=None, coef0=0.0,\n",
       "  decision_function_shape=None, degree=3, gamma='auto', kernel='linear',\n",
       "  max_iter=-1, probability=False, random_state=241, shrinking=True,\n",
       "  tol=0.001, verbose=False)"
      ]
     },
     "execution_count": 5,
     "metadata": {},
     "output_type": "execute_result"
    }
   ],
   "source": [
    "clf.fit(X,y)"
   ]
  },
  {
   "cell_type": "code",
   "execution_count": 6,
   "metadata": {},
   "outputs": [
    {
     "data": {
      "text/plain": [
       "array([3, 4, 9], dtype=int32)"
      ]
     },
     "execution_count": 6,
     "metadata": {},
     "output_type": "execute_result"
    }
   ],
   "source": [
    "clf.support_"
   ]
  },
  {
   "cell_type": "code",
   "execution_count": 11,
   "metadata": {
    "collapsed": true
   },
   "outputs": [],
   "source": [
    "answer = []\n",
    "\n",
    "for i in clf.support_:\n",
    "    answer.append(i+1)"
   ]
  },
  {
   "cell_type": "code",
   "execution_count": 12,
   "metadata": {
    "collapsed": true
   },
   "outputs": [],
   "source": [
    "# Все должно быть правильно, наверно вопрос в кодировке, попробовать с Windows\n",
    "with open(\"Assignment_1_1.txt\", \"w\") as text_file:\n",
    "    print(answer, file=text_file)"
   ]
  },
  {
   "cell_type": "code",
   "execution_count": 16,
   "metadata": {},
   "outputs": [
    {
     "name": "stdout",
     "output_type": "stream",
     "text": [
      "[3 4 9]\n"
     ]
    }
   ],
   "source": [
    "import pandas\n",
    "from sklearn.svm import SVC\n",
    "\n",
    "\n",
    "# 1. Загрузите выборку из файла svm-data.csv. В нем записана двумерная выборка (целевая переменная указана\n",
    "# в первом столбце, признаки — во втором и третьем).\n",
    "\n",
    "df = pandas.read_csv('svm-data.csv', header=None)\n",
    "y = df[0]\n",
    "X = df.loc[:, 1:]\n",
    "\n",
    "# 2. Обучите классификатор с линейным ядром, параметром C = 100000 и random_state=241.\n",
    "# Такое значение параметра нужно использовать, чтобы убедиться, что SVM работает с выборкой как с линейно разделимой.\n",
    "# При более низких значениях параметра алгоритм будет настраиваться с учетом слагаемого в функционале,\n",
    "# штрафующего за маленькие отступы, из-за чего результат может не совпасть с решением классической задачи SVM для\n",
    "# линейно разделимой выборки.\n",
    "\n",
    "model = SVC(kernel='linear', C=100000, random_state=241)\n",
    "model.fit(X, y)\n",
    "\n",
    "# 3. Найдите номера объектов, которые являются опорными (нумерация с единицы). Они будут являться ответом на задание.\n",
    "# Обратите внимание, что в качестве ответа нужно привести номера объектов в возрастающем порядке через\n",
    "# запятую или пробел. Нумерация начинается с 1.\n",
    "\n",
    "n_sv = model.support_\n",
    "n_sv.sort()\n",
    "print(n_sv)"
   ]
  },
  {
   "cell_type": "code",
   "execution_count": null,
   "metadata": {
    "collapsed": true
   },
   "outputs": [],
   "source": []
  }
 ],
 "metadata": {
  "kernelspec": {
   "display_name": "Python 3",
   "language": "python",
   "name": "python3"
  },
  "language_info": {
   "codemirror_mode": {
    "name": "ipython",
    "version": 3
   },
   "file_extension": ".py",
   "mimetype": "text/x-python",
   "name": "python",
   "nbconvert_exporter": "python",
   "pygments_lexer": "ipython3",
   "version": "3.6.1"
  }
 },
 "nbformat": 4,
 "nbformat_minor": 2
}
