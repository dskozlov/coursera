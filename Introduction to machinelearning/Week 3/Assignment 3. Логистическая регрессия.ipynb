{
 "cells": [
  {
   "cell_type": "code",
   "execution_count": 524,
   "metadata": {
    "collapsed": true
   },
   "outputs": [],
   "source": [
    "import pandas as pd\n",
    "import math as m\n",
    "from sklearn.metrics import roc_auc_score"
   ]
  },
  {
   "cell_type": "code",
   "execution_count": 4,
   "metadata": {
    "collapsed": true
   },
   "outputs": [],
   "source": [
    "df = pd.read_csv('data-logistic.csv',header=None)"
   ]
  },
  {
   "cell_type": "code",
   "execution_count": 359,
   "metadata": {
    "collapsed": true
   },
   "outputs": [],
   "source": [
    "X = df[[1,2]]\n",
    "y = df[0]\n",
    "x1 = df[1]\n",
    "x2 = df[2]"
   ]
  },
  {
   "cell_type": "code",
   "execution_count": 511,
   "metadata": {
    "collapsed": true
   },
   "outputs": [],
   "source": [
    "def w1_step(k, C, y, x1, x2, w1, w2):\n",
    "    S = 0\n",
    "    for i in range(0, len(df)):\n",
    "        S += y[i] * x1[i] * (1.0 - (1.0 / (1.0 + m.exp(-y[i] * (w1 * x1[i] + w2 * x2[i])))))\n",
    "    w1 = w1 + (k * (1.0 / len(df))) * S - k * C * w1\n",
    "    return w1"
   ]
  },
  {
   "cell_type": "code",
   "execution_count": 512,
   "metadata": {
    "collapsed": true
   },
   "outputs": [],
   "source": [
    "def w2_step(k, C, y, x1, x2, w1, w2):\n",
    "    S = 0\n",
    "    for i in range(0, len(df)):\n",
    "        S += y[i] * x2[i] * (1.0 - (1.0 / (1.0 + m.exp(-y[i] * (w1 * x1[i] + w2 * x2[i])))))\n",
    "    w2 = w2 + (k * (1.0 / len(df))) * S - k * C * w2\n",
    "    return w2"
   ]
  },
  {
   "cell_type": "code",
   "execution_count": 515,
   "metadata": {
    "collapsed": true
   },
   "outputs": [],
   "source": [
    "def grad(x1, x2, y, C, k=0.1, w1=0, w2=0):\n",
    "    i=0\n",
    "    i_max=10000\n",
    "    err=1e-5\n",
    "\n",
    "    w1=0\n",
    "    w2=0\n",
    "    w1_new=w1\n",
    "    w2_new=w2\n",
    "    \n",
    "\n",
    "    for i in range(0,10000):\n",
    "\n",
    "        w1_new, w2_new = w1_step(k, C=C, y=y, x1=x1, x2=x2, w1=w1,w2=w2), w2_step(k, C=C, y=y, x1=x1, x2=x2, w1=w1,w2=w2)        \n",
    "        diff = m.sqrt((w1_new - w1) ** 2 + (w2_new - w2) ** 2)\n",
    "\n",
    "        if diff < err or i > i_max:\n",
    "            break\n",
    "        else:\n",
    "            w1, w2 = w1_new, w2_new\n",
    "            i+=1\n",
    "\n",
    "    return w1_new,w2_new"
   ]
  },
  {
   "cell_type": "code",
   "execution_count": 518,
   "metadata": {
    "collapsed": true
   },
   "outputs": [],
   "source": [
    "w1_reg, w2_reg = grad(x1, x2, y, 10)\n",
    "w1, w2 = grad(x1, x2, y, 0)"
   ]
  },
  {
   "cell_type": "code",
   "execution_count": 519,
   "metadata": {
    "collapsed": true
   },
   "outputs": [],
   "source": [
    "def a(w1, w2, x1, x2):\n",
    "    a=[]\n",
    "    for i in range(0, len(df)):\n",
    "          a.append(1 / (1 + m.exp(-w1 * x1[i] - w2 * x2[i])))\n",
    "    return a"
   ]
  },
  {
   "cell_type": "code",
   "execution_count": 523,
   "metadata": {},
   "outputs": [
    {
     "name": "stdout",
     "output_type": "stream",
     "text": [
      "0.926857142857 0.936285714286\n"
     ]
    }
   ],
   "source": [
    "ans=roc_auc_score(y, a(w1, w2, x1, x2))\n",
    "ans_reg=roc_auc_score(y, a(w1_reg, w2_reg, x1, x2))\n",
    "\n",
    "print(ans, ans_reg)"
   ]
  },
  {
   "cell_type": "code",
   "execution_count": 528,
   "metadata": {
    "collapsed": true
   },
   "outputs": [],
   "source": [
    "with open(\"Solution/Assignment_3_1.txt\", \"w\") as text_file:\n",
    "    print('0.927 0.936', file=text_file)"
   ]
  }
 ],
 "metadata": {
  "kernelspec": {
   "display_name": "Python 3",
   "language": "python",
   "name": "python3"
  },
  "language_info": {
   "codemirror_mode": {
    "name": "ipython",
    "version": 3
   },
   "file_extension": ".py",
   "mimetype": "text/x-python",
   "name": "python",
   "nbconvert_exporter": "python",
   "pygments_lexer": "ipython3",
   "version": "3.6.1"
  }
 },
 "nbformat": 4,
 "nbformat_minor": 2
}
